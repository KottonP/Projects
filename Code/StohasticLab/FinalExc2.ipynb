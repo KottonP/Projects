{
 "cells": [
  {
   "cell_type": "markdown",
   "metadata": {},
   "source": [
    "##  **_Βαμβακάς Παναγιώτης_**\n",
    "## ge17090"
   ]
  },
  {
   "cell_type": "markdown",
   "metadata": {},
   "source": [
    "--------"
   ]
  },
  {
   "cell_type": "markdown",
   "metadata": {},
   "source": [
    "# Ασκήσεις 35-37"
   ]
  },
  {
   "cell_type": "code",
   "execution_count": 1,
   "metadata": {},
   "outputs": [
    {
     "name": "stdout",
     "output_type": "stream",
     "text": [
      " \n",
      "    The sample mean of phat is 0.04076 and the sample variance is 0.00000\n",
      "    \n"
     ]
    }
   ],
   "source": [
    "import statistics as stat\n",
    "from simple_markov_chain_lib import markov_chain\n",
    "\n",
    "p = 1 / 6\n",
    "\n",
    "# A dictionary for the initial distribution.\n",
    "# We prescribe the initial distribution\n",
    "\n",
    "init_dist = {1: 1.0}\n",
    "\n",
    "# A dictionary for the transition probability  matrix.\n",
    "# Every state-key corresponds to a list with tuples of (Next_State,Probability)\n",
    "markov_table = {\n",
    "    1: {2: 1.},\n",
    "    2: {2: 2 / 3, 3: 1 / 3},\n",
    "    3: {1: p, 2: 1 - p}\n",
    "}\n",
    "\n",
    "# Markov Chain construction\n",
    "mc = markov_chain(markov_table, init_dist)\n",
    "\n",
    "# Experiment parameters\n",
    "N = 20000  # number of samples\n",
    "steps = 20  # the target time\n",
    "p_list = []  # the list of the phat estimates\n",
    "\n",
    "for a in range(50):  # iteration to produce the estimates and then add them to our list\n",
    "    counter = 0  # to count the number of times the event {X_20  = 1} occurs\n",
    "\n",
    "    # Simulation\n",
    "    for i in range(N):\n",
    "        mc.start()  # new experiment\n",
    "        for j in range(steps):\n",
    "            mc.move()\n",
    "        if mc.running_state == 1:\n",
    "            counter += 1\n",
    "\n",
    "    phat = counter / N\n",
    "    p_list.append(phat)  # A new estimate of phat is added on the list\n",
    "\n",
    "print(\n",
    "    \"\"\" \n",
    "    The sample mean of phat is {0:.5f} and the sample variance is {1:.5f}\n",
    "    \"\"\".format(stat.mean(p_list), stat.variance(p_list)))\n",
    "# The code to compute the sample mean and variance of our phat list"
   ]
  },
  {
   "cell_type": "markdown",
   "metadata": {},
   "source": [
    "## Απαντήσεις ασκήσεων 35-37\n",
    "    \n",
    "  Για την υλοποίηση των ασκήσεων, δημιουργήσαμε μια λίστα , την `p_list`, τρέξαμε τον κώδικα για την εύρεση της εκτιμήτριας 50 φορές, και κάθε φορά, αποθηκεύαμε το αποτέλεσμα στη λίστα.\n",
    "\n",
    "1. Με χρήση της εντολής `stat.mean(p_list)`, υπολογίσαμε τη δειγματική μέση τιμή για τις $M=50$ εκτιμήσεις Monte Carlo της πιθανότητας $\\mathbb{P}_1[X_{20}=1]$ όταν $N=200$ και όταν $N=20.000$, και βρήκαμε: $\\overline{\\hat{p}_{200}}=0.03890$ και $\\overline{\\hat{p}_{20000}}=0.04001$\n",
    "---\n",
    "2. Άμα ακολουθήσουμε τον θεωρητικό τρόπο, δηλαδή να διαγωνοποιήσουμε τον πίνακα $P = \n",
    "\\begin{pmatrix}\n",
    "0 & 1 & 0\\\\\n",
    "0 & 2/3 & 1/3\\\\\n",
    "1/6 & 5/6 & 0\n",
    "\\end{pmatrix}$ \n",
    "\n",
    ", βρίσκουμε $P^{20} = \\begin{pmatrix}\n",
    "1 & \\frac{12-18i}{13} & \\frac{12+18i}{13} \\\\\n",
    "1 & \\frac{-5+i}{13} & \\frac{-5-i}{13} \\\\\n",
    "1 & 1 & 1\n",
    "\\end{pmatrix}\n",
    "\\begin{pmatrix}\n",
    "1 & 0 & 0\\\\\n",
    "0 & ({\\frac{-1-i}{6}})^{20} & 0\\\\\n",
    "0 & 0 & ({\\frac{-1+i}{6}})^{20}\n",
    "\\end{pmatrix}\n",
    "{\\begin{pmatrix}\n",
    "1 & \\frac{12-18i}{13} & \\frac{12+18i}{13} \\\\\n",
    "1 & \\frac{-5+i}{13} & \\frac{-5-i}{13} \\\\\n",
    "1 & 1 & 1\n",
    "\\end{pmatrix}}^{-1}$\n",
    "\n",
    ", και αφού πολλαπλασιάσουμε με την αρχική κατανομή $π_{1} = (1,0,0)$, παίρνουμε τελικά: $π_{20} = (0.040, 0.720, 0.240)$, όπου βλέποντας την πρώτη συντεταγμένη, είναι η πιθανότητα που θέλουμε, δηλαδή $(π_{20})_1 = \\mathbb{P}[X_{20} = 1 ]= 0.040$ , αποτέλεσμα που συμβαδίζει με τα υπολογιστικά μας αποτελέσματά.\n",
    "\n",
    "---\n",
    "3. Με χρήση τώρα της εντολής `stat.variance(p_list)`, μπορούμε να υπολογίσουμε τη δειγματική διασπορά των εκτιμήσεων για $N=200$ και $N=20.000$, και τις βρίσκουμε ίσες με : $S^2(\\hat{p}_{200})=3 \\times 10^{-5}$ και $S^2(\\hat{p}_{20000})=0.1 \\times 10^{-5}$\n",
    "---\n",
    "4. Αν η αλυσίδα ξεκινήσει από την κατάσταση 3, βλέπουμε από τον πίνακα πιθανοτήτων μετάβασης πως η πιθανότητα να μεταβεί στην κατάσταση 2 (όπως κάνει και αν ξεκινήσει από την 1) είναι $5/6$ , άρα σύμφωνα με τη μαρκοβιανή ιδιότητα, η αλυσίδα μας από την κατάσταση 2 και έπειτα συμπεριφέρεται σαν να είχε ξεκινήσει από την 1. Αυτό αποδεικνύεται και πειραματικά, αφού τα αποτελέσματα, για αρχή από την 3 είναι τα ίδια όπως αυτά για αρχή από την 1, δηλαδή :$ \\mathbb{P}\\left[X_{20} = 1 \\mid X_0 = 1 \\right]=\\mathbb{P}\\left[X_{40} = 1 \\mid X_0 = 3 \\right]$ αφού $\\mathbb{P}\\left[X_{1} = 2 \\mid X_0 = 3 \\right]=5/6 $ ."
   ]
  },
  {
   "cell_type": "markdown",
   "metadata": {},
   "source": [
    "---"
   ]
  },
  {
   "cell_type": "markdown",
   "metadata": {},
   "source": [
    "# Άσκηση 40"
   ]
  },
  {
   "cell_type": "markdown",
   "metadata": {},
   "source": [
    "   Στην συγκεκριμένη άσκηση θα υπολογίσουμε με τον ίδιο τρόπο (δειγματικό μέσο όρο των εκτιμητριών _Monte Carlo_ ), με $M=50$ δείγματα, την πιθανότητα νίκης του παίκτη που σερβίρει πρώτος( `PlayerA` ) σε ένα παιχνίδι Tennis, δεδομένο ότι η πιθανότητα πόντου είναι $p=0.6$ .\n",
    "   Ο πίνακας πιθανοτήτων μετάβασης αντλήθηκε από την εικόνα της άσκησης."
   ]
  },
  {
   "cell_type": "code",
   "execution_count": 2,
   "metadata": {},
   "outputs": [
    {
     "name": "stdout",
     "output_type": "stream",
     "text": [
      "The probability of PlayerA winning is 73.58%. \n"
     ]
    }
   ],
   "source": [
    "from simple_markov_chain_lib import markov_chain\n",
    "import statistics as stat\n",
    "\n",
    "p = .6  #Probability of PlayerA scoring a point\n",
    "\n",
    "markov_table = {    # Markov Table of the 17 states of a Tennis game\n",
    "                    # based on the image\n",
    "    '0-0': {'15-0': p, '0-15': 1 - p},  # 1st row of the pic\n",
    "\n",
    "    '15-0': {'30-0': p, '15-15': 1 - p}, '0-15': {'15-15': p, '0-30': 1 - p},  # 2nd row\n",
    "\n",
    "    '30-0': {'40-0': p, '30-15': 1 - p}, '15-15': {'30-15': p, '15-30': 1 - p},  # 3rd row\n",
    "    '0-30': {'15-30': p, '0-40': 1 - p},\n",
    "\n",
    "    '40-0': {'GameA': p, '40-15': 1 - p}, '30-15': {'40-15': p, 'Deuce': 1 - p},  # 4th row\n",
    "    '15-30': {'Deuce': p, '15-40': 1 - p}, '0-40': {'15-40': p, 'GameB': 1 - p},\n",
    "\n",
    "    '40-15': {'GameA': p, 'AdvA': 1 - p}, 'Deuce': {'AdvA': p, 'AdvB': 1 - p}, '15-40': {'AdvB': p, 'GameB': 1 - p},\n",
    "    # 5th row\n",
    "\n",
    "    'GameA': {'GameA': 1.}, 'AdvA': {'GameA': p, 'Deuce': 1 - p},  # 6th row\n",
    "    'AdvB': {'Deuce': p, 'GameB': 1 - p}, 'GameB': {'GameB': 1.}\n",
    "}\n",
    "\n",
    "initial_dist = {'0-0': 1.}  # Every game starts from 0-0\n",
    "\n",
    "# Markov Chain construction\n",
    "mc = markov_chain(markov_table, initial_dist)\n",
    "\n",
    "# Experiment parameters\n",
    "N: int = 10000   # number of samples\n",
    "M: int = 50     # Sample size\n",
    "p_list = []     # List of the phat estimates\n",
    "\n",
    "\n",
    "# Simulation\n",
    "for j in range(M):\n",
    "    counter = 0\n",
    "    for i in range(N):\n",
    "        mc.start()  # new experiment\n",
    "        while True:\n",
    "            mc.move()\n",
    "            if mc.running_state == 'GameA':\n",
    "                counter += 1\n",
    "                break\n",
    "            elif mc.running_state == 'GameB':\n",
    "                break\n",
    "    \n",
    "    phat: float = counter / N\n",
    "    p_list.append(phat)\n",
    "\n",
    "print('The probability of PlayerA winning is {:.2%}. '.format(stat.mean(p_list)))\n",
    "# The code to compute the sample mean of our phat list AKA the probability of PlayerA winning"
   ]
  },
  {
   "cell_type": "markdown",
   "metadata": {},
   "source": [
    "Άρα, υπολογίσαμε την δειγματική μέση τιμή, δείγματους μήκους 50, της εκτιμήτριας _Monte Carlo_ να είναι : \n",
    "\n",
    "$\\overline{\\hat{p}_{10000}}=74\\%$ , ή αλλίως την πιθανότητα νίκης του `PlayerA` ."
   ]
  }
 ],
 "metadata": {
  "kernelspec": {
   "display_name": "Python 3",
   "language": "python",
   "name": "python3"
  },
  "language_info": {
   "codemirror_mode": {
    "name": "ipython",
    "version": 3
   },
   "file_extension": ".py",
   "mimetype": "text/x-python",
   "name": "python",
   "nbconvert_exporter": "python",
   "pygments_lexer": "ipython3",
   "version": "3.7.6"
  }
 },
 "nbformat": 4,
 "nbformat_minor": 4
}
