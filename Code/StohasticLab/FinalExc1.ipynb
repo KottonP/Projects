{
 "cells": [
  {
   "cell_type": "code",
   "execution_count": 1,
   "metadata": {
    "scrolled": true
   },
   "outputs": [
    {
     "name": "stdout",
     "output_type": "stream",
     "text": [
      "At day 0 the bug is in room Μ\n",
      "At day 1 the bug is in room Σ \n",
      "At day 2 the bug is in room Κ \n",
      "At day 3 the bug is in room Β \n",
      "At day 4 the bug is in room Σ \n",
      "At day 5 the bug is in room Β \n",
      "At day 6 the bug is in room Σ \n",
      "At day 7 the bug is in room Μ \n",
      "At day 8 the bug is in room Σ \n",
      "At day 9 the bug is in room Κ \n",
      "At day 10 the bug is in room Σ \n",
      "At day 11 the bug is in room Υ \n",
      "At day 12 the bug is in room Σ \n",
      "At day 13 the bug is in room Κ \n",
      "At day 14 the bug is in room Β \n",
      "At day 15 the bug is in room Σ \n",
      "At day 16 the bug is in room Υ \n",
      "At day 17 the bug is in room Σ \n",
      "At day 18 the bug is in room Υ \n",
      "At day 19 the bug is in room Σ \n",
      "At day 20 the bug is in room Β \n"
     ]
    }
   ],
   "source": [
    "from simple_markov_chain_lib import markov_chain  # import markov chain simulator\n",
    "\n",
    "# Transition Table\n",
    "markov_table = {\n",
    "    'Κ': {'Β': .5 , 'Σ': .5},  # from room K we move to room B with prob 0.5 and to room Σ with 0.5\n",
    "    'Β': {'Κ': .5 , 'Σ': .5},\n",
    "    'Σ': {'Κ': .25, 'Β': .25, 'Υ': .25, 'Μ': .25},\n",
    "    'Υ': {'Σ': 1.},\n",
    "    'Μ': {'Σ': 1.}\n",
    "}\n",
    "\n",
    "# Initial Distribution\n",
    "init_dist = {'Μ': 1.}  # we start from room M with probability 1\n",
    "\n",
    "mc = markov_chain(markov_table, init_dist)\n",
    "\n",
    "mc.start()\n",
    "print(\"At day {} the bug is in room {}\".format(mc.steps, mc.running_state))\n",
    "for i in range(20):\n",
    "    mc.move()\n",
    "    print(\"At day {} the bug is in room {} \".format(mc.steps, mc.running_state))"
   ]
  },
  {
   "cell_type": "markdown",
   "metadata": {},
   "source": [
    "--------------\n",
    "# Κείμενο\n",
    "\n",
    "   Λόγω μετακίνησεις εκτός Αθήνας εξαιτίας του ιού, δεν είχα πρόσβαση σε υπολογιστή τις τελευταίες 15 μέρες. Θα το εκτιμούσα αν μπορούσατε να πάρετε υπ' όψην αυτό το θέμα, και να δεχόσασταν την εργασία, ακόμα και ληξιπρόθεσμα.\n",
    "    \n",
    "  **Ευχαριστώ πολύ**. "
   ]
  }
 ],
 "metadata": {
  "kernelspec": {
   "display_name": "Python 3",
   "language": "python",
   "name": "python3"
  },
  "language_info": {
   "codemirror_mode": {
    "name": "ipython",
    "version": 3
   },
   "file_extension": ".py",
   "mimetype": "text/x-python",
   "name": "python",
   "nbconvert_exporter": "python",
   "pygments_lexer": "ipython3",
   "version": "3.7.6"
  }
 },
 "nbformat": 4,
 "nbformat_minor": 4
}
